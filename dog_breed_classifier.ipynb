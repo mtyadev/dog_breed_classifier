{
 "cells": [
  {
   "cell_type": "markdown",
   "metadata": {},
   "source": [
    "# Data Scientist Nanodegree\n",
    "\n",
    "## Convolutional Neural Networks\n",
    "\n",
    "## Project: Write an Algorithm for a Dog Identification App \n",
    "\n",
    "\n",
    "This notebook walks you through one of the most popular Udacity projects across machine learning and artificial intellegence nanodegree programs.  The goal is to classify images of dogs according to their breed.  \n",
    "\n",
    "If you are looking for a more guided capstone project related to deep learning and convolutional neural networks, this might be just it.  Notice that even if you follow the notebook to creating your classifier, you must still create a blog post or deploy an application to fulfill the requirements of the capstone project.\n",
    "\n",
    "Also notice, you may be able to use only parts of this notebook (for example certain coding portions or the data) without completing all parts and still meet all requirements of the capstone project.\n",
    "\n",
    "---\n",
    "\n",
    "In this notebook, some template code has already been provided for you, and you will need to implement additional functionality to successfully complete this project. You will not need to modify the included code beyond what is requested. Sections that begin with **'(IMPLEMENTATION)'** in the header indicate that the following block of code will require additional functionality which you must provide. Instructions will be provided for each section, and the specifics of the implementation are marked in the code block with a 'TODO' statement. Please be sure to read the instructions carefully! \n",
    "\n",
    "In addition to implementing code, there will be questions that you must answer which relate to the project and your implementation. Each section where you will answer a question is preceded by a **'Question X'** header. Carefully read each question and provide thorough answers in the following text boxes that begin with **'Answer:'**. Your project submission will be evaluated based on your answers to each of the questions and the implementation you provide.\n",
    "\n",
    ">**Note:** Code and Markdown cells can be executed using the **Shift + Enter** keyboard shortcut.  Markdown cells can be edited by double-clicking the cell to enter edit mode.\n",
    "\n",
    "The rubric contains _optional_ \"Stand Out Suggestions\" for enhancing the project beyond the minimum requirements. If you decide to pursue the \"Stand Out Suggestions\", you should include the code in this IPython notebook.\n",
    "\n",
    "\n",
    "\n",
    "---\n",
    "### Why We're Here \n",
    "\n",
    "In this notebook, you will make the first steps towards developing an algorithm that could be used as part of a mobile or web app.  At the end of this project, your code will accept any user-supplied image as input.  If a dog is detected in the image, it will provide an estimate of the dog's breed.  If a human is detected, it will provide an estimate of the dog breed that is most resembling.  The image below displays potential sample output of your finished project (... but we expect that each student's algorithm will behave differently!). \n",
    "\n",
    "![Sample Dog Output](images/sample_dog_output.png)\n",
    "\n",
    "In this real-world setting, you will need to piece together a series of models to perform different tasks; for instance, the algorithm that detects humans in an image will be different from the CNN that infers dog breed.  There are many points of possible failure, and no perfect algorithm exists.  Your imperfect solution will nonetheless create a fun user experience!\n",
    "\n",
    "### The Road Ahead\n",
    "\n",
    "We break the notebook into separate steps.  Feel free to use the links below to navigate the notebook.\n",
    "\n",
    "* [Step 0](#step0): Import Datasets\n",
    "* [Step 1](#step1): Detect Humans\n",
    "* [Step 2](#step2): Detect Dogs\n",
    "* [Step 3](#step3): Create a CNN to Classify Dog Breeds (from Scratch)\n",
    "* [Step 4](#step4): Use a CNN to Classify Dog Breeds (using Transfer Learning)\n",
    "* [Step 5](#step5): Create a CNN to Classify Dog Breeds (using Transfer Learning)\n",
    "* [Step 6](#step6): Write your Algorithm\n",
    "* [Step 7](#step7): Test Your Algorithm\n",
    "\n",
    "---\n",
    "<a id='step0'></a>\n",
    "## Step 0: Import Datasets\n",
    "\n",
    "### Import Dog Dataset\n",
    "\n",
    "In the code cell below, we import a dataset of dog images.  We populate a few variables through the use of the `load_files` function from the scikit-learn library:\n",
    "- `train_files`, `valid_files`, `test_files` - numpy arrays containing file paths to images\n",
    "- `train_targets`, `valid_targets`, `test_targets` - numpy arrays containing onehot-encoded classification labels \n",
    "- `dog_names` - list of string-valued dog breed names for translating labels"
   ]
  },
  {
   "cell_type": "code",
   "execution_count": 1,
   "metadata": {},
   "outputs": [
    {
     "name": "stderr",
     "output_type": "stream",
     "text": [
      "Using TensorFlow backend.\n"
     ]
    },
    {
     "name": "stdout",
     "output_type": "stream",
     "text": [
      "There are 133 total dog categories.\n",
      "There are 8351 total dog images.\n",
      "\n",
      "There are 6680 training dog images.\n",
      "There are 835 validation dog images.\n",
      "There are 836 test dog images.\n"
     ]
    }
   ],
   "source": [
    "from sklearn.datasets import load_files       \n",
    "from keras.utils import np_utils\n",
    "import numpy as np\n",
    "from glob import glob\n",
    "\n",
    "# define function to load train, test, and validation datasets\n",
    "def load_dataset(path):\n",
    "    data = load_files(path)\n",
    "    dog_files = np.array(data['filenames'])\n",
    "    dog_targets = np_utils.to_categorical(np.array(data['target']), 133)\n",
    "    return dog_files, dog_targets\n",
    "\n",
    "# load train, test, and validation datasets\n",
    "train_files, train_targets = load_dataset('../../../data/dog_images/train')\n",
    "valid_files, valid_targets = load_dataset('../../../data/dog_images/valid')\n",
    "test_files, test_targets = load_dataset('../../../data/dog_images/test')\n",
    "\n",
    "# load list of dog names\n",
    "dog_names = [item[20:-1] for item in sorted(glob(\"../../../data/dog_images/train/*/\"))]\n",
    "\n",
    "# print statistics about the dataset\n",
    "print('There are %d total dog categories.' % len(dog_names))\n",
    "print('There are %s total dog images.\\n' % len(np.hstack([train_files, valid_files, test_files])))\n",
    "print('There are %d training dog images.' % len(train_files))\n",
    "print('There are %d validation dog images.' % len(valid_files))\n",
    "print('There are %d test dog images.'% len(test_files))"
   ]
  },
  {
   "cell_type": "code",
   "execution_count": 2,
   "metadata": {},
   "outputs": [
    {
     "data": {
      "text/plain": [
       "count    6680.000000\n",
       "mean       60.644012\n",
       "std        37.493575\n",
       "min         0.000000\n",
       "25%        29.000000\n",
       "50%        58.000000\n",
       "75%        91.000000\n",
       "max       132.000000\n",
       "dtype: float64"
      ]
     },
     "execution_count": 2,
     "metadata": {},
     "output_type": "execute_result"
    }
   ],
   "source": [
    "# Understanding distribution of dog breeds in the training dataset\n",
    "\n",
    "import pandas as pd\n",
    "\n",
    "#targets_distribution = np.vstack([train_targets,valid_targets,test_targets])\n",
    "\n",
    "targets_distribution = pd.DataFrame(data=train_targets)\n",
    "\n",
    "#targets_distribution\n",
    "targets_distribution = targets_distribution.idxmax(axis=1)\n",
    "\n",
    "ax = targets_distribution.hist(bins = 133);\n",
    "\n",
    "ax.set_xlabel(\"dog breeds labeled from 1-133\")\n",
    "\n",
    "targets_distribution.describe()\n",
    "\n"
   ]
  },
  {
   "cell_type": "code",
   "execution_count": 3,
   "metadata": {},
   "outputs": [
    {
     "data": {
      "text/plain": [
       "Text(0,0.5,'Amount of Images per Dog Breed')"
      ]
     },
     "execution_count": 3,
     "metadata": {},
     "output_type": "execute_result"
    },
    {
     "data": {
      "image/png": "[encoded data removed]",
      "text/plain": [
       "<matplotlib.figure.Figure at 0x7f3ea5436ef0>"
      ]
     },
     "metadata": {
      "needs_background": "light"
     },
     "output_type": "display_data"
    }
   ],
   "source": [
    "ax = targets_distribution.plot.box()\n",
    "\n",
    "ax.set_ylabel(\"Amount of Images per Dog Breed\")"
   ]
  },
  {
   "cell_type": "code",
   "execution_count": 65,
   "metadata": {},
   "outputs": [
    {
     "data": {
      "image/png": "[encoded data removed]",
      "text/plain": [
       "<matplotlib.figure.Figure at 0x7f3ec9044518>"
      ]
     },
     "metadata": {
      "needs_background": "light"
     },
     "output_type": "display_data"
    }
   ],
   "source": [
    "# Analyzing image sizes\n",
    "\n",
    "from PIL import Image\n",
    "sizes = []\n",
    "for image_path in train_files:\n",
    "    im = Image.open(image_path)\n",
    "    width, height = im.size\n",
    "    sizes.append((width, height))\n",
    "size_distribution = pd.DataFrame(sizes,columns=[\"width\",\"height\"])\n",
    "\n",
    "size_distribution.plot.scatter(x = \"width\", y = \"height\");\n",
    "#size_distribution.plot.scatter(x = width, y = height)\n"
   ]
  },
  {
   "cell_type": "code",
   "execution_count": 66,
   "metadata": {},
   "outputs": [
    {
     "data": {
      "text/html": [
       "<div>\n",
       "<style scoped>\n",
       "    .dataframe tbody tr th:only-of-type {\n",
       "        vertical-align: middle;\n",
       "    }\n",
       "\n",
       "    .dataframe tbody tr th {\n",
       "        vertical-align: top;\n",
       "    }\n",
       "\n",
       "    .dataframe thead th {\n",
       "        text-align: right;\n",
       "    }\n",
       "</style>\n",
       "<table border=\"1\" class=\"dataframe\">\n",
       "  <thead>\n",
       "    <tr style=\"text-align: right;\">\n",
       "      <th></th>\n",
       "      <th>width</th>\n",
       "      <th>height</th>\n",
       "    </tr>\n",
       "  </thead>\n",
       "  <tbody>\n",
       "    <tr>\n",
       "      <th>count</th>\n",
       "      <td>6680.000000</td>\n",
       "      <td>6680.000000</td>\n",
       "    </tr>\n",
       "    <tr>\n",
       "      <th>mean</th>\n",
       "      <td>571.382335</td>\n",
       "      <td>532.157485</td>\n",
       "    </tr>\n",
       "    <tr>\n",
       "      <th>std</th>\n",
       "      <td>397.480566</td>\n",
       "      <td>341.626020</td>\n",
       "    </tr>\n",
       "    <tr>\n",
       "      <th>min</th>\n",
       "      <td>112.000000</td>\n",
       "      <td>113.000000</td>\n",
       "    </tr>\n",
       "    <tr>\n",
       "      <th>25%</th>\n",
       "      <td>375.000000</td>\n",
       "      <td>360.000000</td>\n",
       "    </tr>\n",
       "    <tr>\n",
       "      <th>50%</th>\n",
       "      <td>500.000000</td>\n",
       "      <td>466.000000</td>\n",
       "    </tr>\n",
       "    <tr>\n",
       "      <th>75%</th>\n",
       "      <td>640.000000</td>\n",
       "      <td>600.000000</td>\n",
       "    </tr>\n",
       "    <tr>\n",
       "      <th>max</th>\n",
       "      <td>4278.000000</td>\n",
       "      <td>4003.000000</td>\n",
       "    </tr>\n",
       "  </tbody>\n",
       "</table>\n",
       "</div>"
      ],
      "text/plain": [
       "             width       height\n",
       "count  6680.000000  6680.000000\n",
       "mean    571.382335   532.157485\n",
       "std     397.480566   341.626020\n",
       "min     112.000000   113.000000\n",
       "25%     375.000000   360.000000\n",
       "50%     500.000000   466.000000\n",
       "75%     640.000000   600.000000\n",
       "max    4278.000000  4003.000000"
      ]
     },
     "execution_count": 66,
     "metadata": {},
     "output_type": "execute_result"
    }
   ],
   "source": [
    "size_distribution.describe()"
   ]
  },
  {
   "cell_type": "code",
   "execution_count": 68,
   "metadata": {},
   "outputs": [
    {
     "data": {
      "image/png": "[encoded data removed]",
      "text/plain": [
       "<matplotlib.figure.Figure at 0x7f3cbb0488d0>"
      ]
     },
     "metadata": {
      "needs_background": "light"
     },
     "output_type": "display_data"
    }
   ],
   "source": [
    "size_distribution.plot.box();"
   ]
  },
  {
   "cell_type": "markdown",
   "metadata": {},
   "source": [
    "### Import Human Dataset\n",
    "\n",
    "In the code cell below, we import a dataset of human images, where the file paths are stored in the numpy array `human_files`."
   ]
  },
  {
   "cell_type": "code",
   "execution_count": 4,
   "metadata": {},
   "outputs": [
    {
     "name": "stdout",
     "output_type": "stream",
     "text": [
      "There are 13233 total human images.\n"
     ]
    }
   ],
   "source": [
    "import random\n",
    "random.seed(8675309)\n",
    "\n",
    "# load filenames in shuffled human dataset\n",
    "human_files = np.array(glob(\"../../../data/lfw/*/*\"))\n",
    "random.shuffle(human_files)\n",
    "\n",
    "# print statistics about the dataset\n",
    "print('There are %d total human images.' % len(human_files))"
   ]
  },
  {
   "cell_type": "markdown",
   "metadata": {},
   "source": [
    "---\n",
    "<a id='step1'></a>\n",
    "## Step 1: Detect Humans\n",
    "\n",
    "We use OpenCV's implementation of [Haar feature-based cascade classifiers](http://docs.opencv.org/trunk/d7/d8b/tutorial_py_face_detection.html) to detect human faces in images.  OpenCV provides many pre-trained face detectors, stored as XML files on [github](https://github.com/opencv/opencv/tree/master/data/haarcascades).  We have downloaded one of these detectors and stored it in the `haarcascades` directory.\n",
    "\n",
    "In the next code cell, we demonstrate how to use this detector to find human faces in a sample image."
   ]
  },
  {
   "cell_type": "code",
   "execution_count": 5,
   "metadata": {},
   "outputs": [
    {
     "name": "stdout",
     "output_type": "stream",
     "text": [
      "Number of faces detected: 1\n"
     ]
    },
    {
     "data": {
      "image/png": "[encoded data removed]",
      "text/plain": [
       "<matplotlib.figure.Figure at 0x7f3ea55d4198>"
      ]
     },
     "metadata": {
      "needs_background": "light"
     },
     "output_type": "display_data"
    }
   ],
   "source": [
    "import cv2                \n",
    "import matplotlib.pyplot as plt                        \n",
    "%matplotlib inline                               \n",
    "\n",
    "# extract pre-trained face detector\n",
    "face_cascade = cv2.CascadeClassifier('haarcascades/haarcascade_frontalface_alt.xml')\n",
    "\n",
    "# load color (BGR) image\n",
    "img = cv2.imread(human_files[3])\n",
    "# convert BGR image to grayscale\n",
    "gray = cv2.cvtColor(img, cv2.COLOR_BGR2GRAY)\n",
    "\n",
    "# find faces in image\n",
    "faces = face_cascade.detectMultiScale(gray)\n",
    "\n",
    "# print number of faces detected in the image\n",
    "print('Number of faces detected:', len(faces))\n",
    "\n",
    "# get bounding box for each detected face\n",
    "for (x,y,w,h) in faces:\n",
    "    # add bounding box to color image\n",
    "    cv2.rectangle(img,(x,y),(x+w,y+h),(255,0,0),2)\n",
    "    \n",
    "# convert BGR image to RGB for plotting\n",
    "cv_rgb = cv2.cvtColor(img, cv2.COLOR_BGR2RGB)\n",
    "\n",
    "# display the image, along with bounding box\n",
    "plt.imshow(cv_rgb)\n",
    "plt.show()"
   ]
  },
  {
   "cell_type": "markdown",
   "metadata": {},
   "source": [
    "Before using any of the face detectors, it is standard procedure to convert the images to grayscale.  The `detectMultiScale` function executes the classifier stored in `face_cascade` and takes the grayscale image as a parameter.  \n",
    "\n",
    "In the above code, `faces` is a numpy array of detected faces, where each row corresponds to a detected face.  Each detected face is a 1D array with four entries that specifies the bounding box of the detected face.  The first two entries in the array (extracted in the above code as `x` and `y`) specify the horizontal and vertical positions of the top left corner of the bounding box.  The last two entries in the array (extracted here as `w` and `h`) specify the width and height of the box.\n",
    "\n",
    "### Write a Human Face Detector\n",
    "\n",
    "We can use this procedure to write a function that returns `True` if a human face is detected in an image and `False` otherwise.  This function, aptly named `face_detector`, takes a string-valued file path to an image as input and appears in the code block below."
   ]
  },
  {
   "cell_type": "code",
   "execution_count": 6,
   "metadata": {},
   "outputs": [],
   "source": [
    "# returns \"True\" if face is detected in image stored at img_path\n",
    "def face_detector(img_path):\n",
    "    img = cv2.imread(img_path)\n",
    "    gray = cv2.cvtColor(img, cv2.COLOR_BGR2GRAY)\n",
    "    faces = face_cascade.detectMultiScale(gray)\n",
    "    return len(faces) > 0"
   ]
  },
  {
   "cell_type": "markdown",
   "metadata": {},
   "source": [
    "### (IMPLEMENTATION) Assess the Human Face Detector\n",
    "\n",
    "__Question 1:__ Use the code cell below to test the performance of the `face_detector` function.  \n",
    "- What percentage of the first 100 images in `human_files` have a detected human face?  \n",
    "- What percentage of the first 100 images in `dog_files` have a detected human face? \n",
    "\n",
    "Ideally, we would like 100% of human images with a detected face and 0% of dog images with a detected face.  You will see that our algorithm falls short of this goal, but still gives acceptable performance.  We extract the file paths for the first 100 images from each of the datasets and store them in the numpy arrays `human_files_short` and `dog_files_short`.\n",
    "\n",
    "__Answer:__ \n",
    "\n",
    "- 100% of the human faces were detected in the human_files_short dataset.\n",
    "- The algorithm detected 11 human faces in the dog_files_short dataset.\n",
    "\n"
   ]
  },
  {
   "cell_type": "code",
   "execution_count": 7,
   "metadata": {},
   "outputs": [
    {
     "name": "stdout",
     "output_type": "stream",
     "text": [
      "\n",
      "Human Faces\n",
      "\n",
      "Detected humans in human_files_short = 100\n",
      "\n",
      "Dogs\n",
      "\n",
      "Detected humans in dog_files_short = 11\n"
     ]
    }
   ],
   "source": [
    "human_files_short = human_files[:100]\n",
    "dog_files_short = train_files[:100]\n",
    "# Do NOT modify the code above this line.\n",
    "\n",
    "## TODO: Test the performance of the face_detector algorithm \n",
    "## on the images in human_files_short and dog_files_short.\n",
    "\n",
    "print(\"\\nHuman Faces\\n\")\n",
    "detected_humans = 0\n",
    "for img_path in human_files_short:\n",
    "    if face_detector(img_path) == True:\n",
    "        detected_humans += 1\n",
    "print(\"Detected humans in human_files_short = \" + str(detected_humans))\n",
    "        \n",
    "\n",
    "detected_humans = 0\n",
    "print(\"\\nDogs\\n\")\n",
    "for img_path in dog_files_short:\n",
    "    if face_detector(img_path) == True:\n",
    "        detected_humans += 1\n",
    "print(\"Detected humans in dog_files_short = \" + str(detected_humans))"
   ]
  },
  {
   "cell_type": "markdown",
   "metadata": {},
   "source": [
    "__Question 2:__ This algorithmic choice necessitates that we communicate to the user that we accept human images only when they provide a clear view of a face (otherwise, we risk having unneccessarily frustrated users!). In your opinion, is this a reasonable expectation to pose on the user? If not, can you think of a way to detect humans in images that does not necessitate an image with a clearly presented face?\n",
    "\n",
    "__Answer:__\n",
    "\n",
    "We suggest the face detector from OpenCV as a potential way to detect human images in your algorithm, but you are free to explore other approaches, especially approaches that make use of deep learning :).  Please use the code cell below to design and test your own face detection algorithm.  If you decide to pursue this _optional_ task, report performance on each of the datasets."
   ]
  },
  {
   "cell_type": "code",
   "execution_count": 8,
   "metadata": {},
   "outputs": [],
   "source": [
    "## (Optional) TODO: Report the performance of another  \n",
    "## face detection algorithm on the LFW dataset\n",
    "### Feel free to use as many code cells as needed."
   ]
  },
  {
   "cell_type": "markdown",
   "metadata": {},
   "source": [
    "---\n",
    "<a id='step2'></a>\n",
    "## Step 2: Detect Dogs\n",
    "\n",
    "In this section, we use a pre-trained [ResNet-50](http://ethereon.github.io/netscope/#/gist/db945b393d40bfa26006) model to detect dogs in images.  Our first line of code downloads the ResNet-50 model, along with weights that have been trained on [ImageNet](http://www.image-net.org/), a very large, very popular dataset used for image classification and other vision tasks.  ImageNet contains over 10 million URLs, each linking to an image containing an object from one of [1000 categories](https://gist.github.com/yrevar/942d3a0ac09ec9e5eb3a).  Given an image, this pre-trained ResNet-50 model returns a prediction (derived from the available categories in ImageNet) for the object that is contained in the image."
   ]
  },
  {
   "cell_type": "code",
   "execution_count": 9,
   "metadata": {},
   "outputs": [
    {
     "name": "stdout",
     "output_type": "stream",
     "text": [
      "Downloading data from https://github.com/fchollet/deep-learning-models/releases/download/v0.2/resnet50_weights_tf_dim_ordering_tf_kernels.h5\n",
      "102858752/102853048 [==============================] - 7s 0us/step\n"
     ]
    }
   ],
   "source": [
    "from keras.applications.resnet50 import ResNet50\n",
    "\n",
    "# define ResNet50 model\n",
    "ResNet50_model = ResNet50(weights='imagenet')"
   ]
  },
  {
   "cell_type": "markdown",
   "metadata": {},
   "source": [
    "### Pre-process the Data\n",
    "\n",
    "When using TensorFlow as backend, Keras CNNs require a 4D array (which we'll also refer to as a 4D tensor) as input, with shape\n",
    "\n",
    "$$\n",
    "(\\text{nb_samples}, \\text{rows}, \\text{columns}, \\text{channels}),\n",
    "$$\n",
    "\n",
    "where `nb_samples` corresponds to the total number of images (or samples), and `rows`, `columns`, and `channels` correspond to the number of rows, columns, and channels for each image, respectively.  \n",
    "\n",
    "The `path_to_tensor` function below takes a string-valued file path to a color image as input and returns a 4D tensor suitable for supplying to a Keras CNN.  The function first loads the image and resizes it to a square image that is $224 \\times 224$ pixels.  Next, the image is converted to an array, which is then resized to a 4D tensor.  In this case, since we are working with color images, each image has three channels.  Likewise, since we are processing a single image (or sample), the returned tensor will always have shape\n",
    "\n",
    "$$\n",
    "(1, 224, 224, 3).\n",
    "$$\n",
    "\n",
    "The `paths_to_tensor` function takes a numpy array of string-valued image paths as input and returns a 4D tensor with shape \n",
    "\n",
    "$$\n",
    "(\\text{nb_samples}, 224, 224, 3).\n",
    "$$\n",
    "\n",
    "Here, `nb_samples` is the number of samples, or number of images, in the supplied array of image paths.  It is best to think of `nb_samples` as the number of 3D tensors (where each 3D tensor corresponds to a different image) in your dataset!"
   ]
  },
  {
   "cell_type": "code",
   "execution_count": 10,
   "metadata": {},
   "outputs": [],
   "source": [
    "from keras.preprocessing import image                  \n",
    "from tqdm import tqdm\n",
    "\n",
    "def path_to_tensor(img_path):\n",
    "    # loads RGB image as PIL.Image.Image type\n",
    "    img = image.load_img(img_path, target_size=(224, 224))\n",
    "    # convert PIL.Image.Image type to 3D tensor with shape (224, 224, 3)\n",
    "    x = image.img_to_array(img)\n",
    "    # convert 3D tensor to 4D tensor with shape (1, 224, 224, 3) and return 4D tensor\n",
    "    return np.expand_dims(x, axis=0)\n",
    "\n",
    "def paths_to_tensor(img_paths):\n",
    "    list_of_tensors = [path_to_tensor(img_path) for img_path in tqdm(img_paths)]\n",
    "    return np.vstack(list_of_tensors)"
   ]
  },
  {
   "cell_type": "markdown",
   "metadata": {},
   "source": [
    "### Making Predictions with ResNet-50\n",
    "\n",
    "Getting the 4D tensor ready for ResNet-50, and for any other pre-trained model in Keras, requires some additional processing.  First, the RGB image is converted to BGR by reordering the channels.  All pre-trained models have the additional normalization step that the mean pixel (expressed in RGB as $[103.939, 116.779, 123.68]$ and calculated from all pixels in all images in ImageNet) must be subtracted from every pixel in each image.  This is implemented in the imported function `preprocess_input`.  If you're curious, you can check the code for `preprocess_input` [here](https://github.com/fchollet/keras/blob/master/keras/applications/imagenet_utils.py).\n",
    "\n",
    "Now that we have a way to format our image for supplying to ResNet-50, we are now ready to use the model to extract the predictions.  This is accomplished with the `predict` method, which returns an array whose $i$-th entry is the model's predicted probability that the image belongs to the $i$-th ImageNet category.  This is implemented in the `ResNet50_predict_labels` function below.\n",
    "\n",
    "By taking the argmax of the predicted probability vector, we obtain an integer corresponding to the model's predicted object class, which we can identify with an object category through the use of this [dictionary](https://gist.github.com/yrevar/942d3a0ac09ec9e5eb3a). "
   ]
  },
  {
   "cell_type": "code",
   "execution_count": 11,
   "metadata": {},
   "outputs": [],
   "source": [
    "from keras.applications.resnet50 import preprocess_input, decode_predictions\n",
    "\n",
    "def ResNet50_predict_labels(img_path):\n",
    "    # returns prediction vector for image located at img_path\n",
    "    img = preprocess_input(path_to_tensor(img_path))\n",
    "    return np.argmax(ResNet50_model.predict(img))"
   ]
  },
  {
   "cell_type": "markdown",
   "metadata": {},
   "source": [
    "### Write a Dog Detector\n",
    "\n",
    "While looking at the [dictionary](https://gist.github.com/yrevar/942d3a0ac09ec9e5eb3a), you will notice that the categories corresponding to dogs appear in an uninterrupted sequence and correspond to dictionary keys 151-268, inclusive, to include all categories from `'Chihuahua'` to `'Mexican hairless'`.  Thus, in order to check to see if an image is predicted to contain a dog by the pre-trained ResNet-50 model, we need only check if the `ResNet50_predict_labels` function above returns a value between 151 and 268 (inclusive).\n",
    "\n",
    "We use these ideas to complete the `dog_detector` function below, which returns `True` if a dog is detected in an image (and `False` if not)."
   ]
  },
  {
   "cell_type": "code",
   "execution_count": 12,
   "metadata": {},
   "outputs": [],
   "source": [
    "### returns \"True\" if a dog is detected in the image stored at img_path\n",
    "def dog_detector(img_path):\n",
    "    prediction = ResNet50_predict_labels(img_path)\n",
    "    return ((prediction <= 268) & (prediction >= 151)) "
   ]
  },
  {
   "cell_type": "markdown",
   "metadata": {},
   "source": [
    "### (IMPLEMENTATION) Assess the Dog Detector\n",
    "\n",
    "__Question 3:__ Use the code cell below to test the performance of your `dog_detector` function.  \n",
    "- What percentage of the images in `human_files_short` have a detected dog?  \n",
    "- What percentage of the images in `dog_files_short` have a detected dog?\n",
    "\n",
    "__Answer:__ \n",
    "\n",
    "* 0 Dogs were detected in human_files_short\n",
    "* 100 Dogs were detected in dog_files_short\n",
    "\n"
   ]
  },
  {
   "cell_type": "code",
   "execution_count": 13,
   "metadata": {},
   "outputs": [],
   "source": [
    "### TODO: Test the performance of the dog_detector function\n",
    "### on the images in human_files_short and dog_files_short.\n",
    "\n",
    "human_files_dogs_detected = [dog_detector(img) for img in human_files_short].count(True)\n",
    "dog_files_dogs_detected = [dog_detector(img) for img in dog_files_short].count(True)"
   ]
  },
  {
   "cell_type": "code",
   "execution_count": 14,
   "metadata": {},
   "outputs": [
    {
     "name": "stdout",
     "output_type": "stream",
     "text": [
      "0\n",
      "100\n"
     ]
    }
   ],
   "source": [
    "print(human_files_dogs_detected)\n",
    "print(dog_files_dogs_detected)"
   ]
  },
  {
   "cell_type": "markdown",
   "metadata": {},
   "source": [
    "---\n",
    "<a id='step3'></a>\n",
    "## Step 3: Create a CNN to Classify Dog Breeds (from Scratch)\n",
    "\n",
    "Now that we have functions for detecting humans and dogs in images, we need a way to predict breed from images.  In this step, you will create a CNN that classifies dog breeds.  You must create your CNN _from scratch_ (so, you can't use transfer learning _yet_!), and you must attain a test accuracy of at least 1%.  In Step 5 of this notebook, you will have the opportunity to use transfer learning to create a CNN that attains greatly improved accuracy.\n",
    "\n",
    "Be careful with adding too many trainable layers!  More parameters means longer training, which means you are more likely to need a GPU to accelerate the training process.  Thankfully, Keras provides a handy estimate of the time that each epoch is likely to take; you can extrapolate this estimate to figure out how long it will take for your algorithm to train. \n",
    "\n",
    "We mention that the task of assigning breed to dogs from images is considered exceptionally challenging.  To see why, consider that *even a human* would have great difficulty in distinguishing between a Brittany and a Welsh Springer Spaniel.  \n",
    "\n",
    "Brittany | Welsh Springer Spaniel\n",
    "- | - \n",
    "<img src=\"images/Brittany_02625.jpg\" width=\"100\"> | <img src=\"images/Welsh_springer_spaniel_08203.jpg\" width=\"200\">\n",
    "\n",
    "It is not difficult to find other dog breed pairs with minimal inter-class variation (for instance, Curly-Coated Retrievers and American Water Spaniels).  \n",
    "\n",
    "Curly-Coated Retriever | American Water Spaniel\n",
    "- | -\n",
    "<img src=\"images/Curly-coated_retriever_03896.jpg\" width=\"200\"> | <img src=\"images/American_water_spaniel_00648.jpg\" width=\"200\">\n",
    "\n",
    "\n",
    "Likewise, recall that labradors come in yellow, chocolate, and black.  Your vision-based algorithm will have to conquer this high intra-class variation to determine how to classify all of these different shades as the same breed.  \n",
    "\n",
    "Yellow Labrador | Chocolate Labrador | Black Labrador\n",
    "- | -\n",
    "<img src=\"images/Labrador_retriever_06457.jpg\" width=\"150\"> | <img src=\"images/Labrador_retriever_06455.jpg\" width=\"240\"> | <img src=\"images/Labrador_retriever_06449.jpg\" width=\"220\">\n",
    "\n",
    "We also mention that random chance presents an exceptionally low bar: setting aside the fact that the classes are slightly imabalanced, a random guess will provide a correct answer roughly 1 in 133 times, which corresponds to an accuracy of less than 1%.  \n",
    "\n",
    "Remember that the practice is far ahead of the theory in deep learning.  Experiment with many different architectures, and trust your intuition.  And, of course, have fun! \n",
    "\n",
    "### Pre-process the Data\n",
    "\n",
    "We rescale the images by dividing every pixel in every image by 255."
   ]
  },
  {
   "cell_type": "code",
   "execution_count": 15,
   "metadata": {},
   "outputs": [
    {
     "name": "stderr",
     "output_type": "stream",
     "text": [
      "100%|██████████| 6680/6680 [01:15<00:00, 88.58it/s] \n",
      "100%|██████████| 835/835 [00:08<00:00, 100.89it/s]\n",
      "100%|██████████| 836/836 [00:08<00:00, 102.34it/s]\n"
     ]
    }
   ],
   "source": [
    "from PIL import ImageFile                            \n",
    "ImageFile.LOAD_TRUNCATED_IMAGES = True                 \n",
    "\n",
    "# pre-process the data for Keras\n",
    "train_tensors = paths_to_tensor(train_files).astype('float32')/255\n",
    "valid_tensors = paths_to_tensor(valid_files).astype('float32')/255\n",
    "test_tensors = paths_to_tensor(test_files).astype('float32')/255"
   ]
  },
  {
   "cell_type": "markdown",
   "metadata": {},
   "source": [
    "### (IMPLEMENTATION) Model Architecture\n",
    "\n",
    "Create a CNN to classify dog breed.  At the end of your code cell block, summarize the layers of your model by executing the line:\n",
    "    \n",
    "        model.summary()\n",
    "\n",
    "We have imported some Python modules to get you started, but feel free to import as many modules as you need.  If you end up getting stuck, here's a hint that specifies a model that trains relatively fast on CPU and attains >1% test accuracy in 5 epochs:\n",
    "\n",
    "![Sample CNN](images/sample_cnn.png)\n",
    "           \n",
    "__Question 4:__ Outline the steps you took to get to your final CNN architecture and your reasoning at each step.  If you chose to use the hinted architecture above, describe why you think that CNN architecture should work well for the image classification task.\n",
    "\n",
    "__Answer:__ \n",
    "\n",
    "* I chose to build a CNN using Convolutional layers and MaxPooling layers in a cascade. \n",
    "* All MaxPooling layers use relu as activiation function\n",
    "* The common CNNs shown in the course lecture all appear to follow such a pattern which generally generates good results \n",
    "* Due to limited gpu ressources and for performance reasons I am limiting the amount of connected layers to see what such a limited CNN is already able to accomplish\n",
    "* The output of the last MaxPooling layer is flattened to a vector\n",
    "* The vector is then ingested into a fully connected dense layer\n",
    "* The dense layer is connected with the final dense layer using a softmax activation function with 133 output nodes, 1 node per potential dog breed."
   ]
  },
  {
   "cell_type": "code",
   "execution_count": 16,
   "metadata": {},
   "outputs": [
    {
     "name": "stdout",
     "output_type": "stream",
     "text": [
      "(224, 224, 3)\n"
     ]
    }
   ],
   "source": [
    "print(train_tensors[1].shape)"
   ]
  },
  {
   "cell_type": "code",
   "execution_count": 17,
   "metadata": {},
   "outputs": [
    {
     "name": "stdout",
     "output_type": "stream",
     "text": [
      "_________________________________________________________________\n",
      "Layer (type)                 Output Shape              Param #   \n",
      "=================================================================\n",
      "conv2d_1 (Conv2D)            (None, 224, 224, 16)      208       \n",
      "_________________________________________________________________\n",
      "max_pooling2d_2 (MaxPooling2 (None, 112, 112, 16)      0         \n",
      "_________________________________________________________________\n",
      "conv2d_2 (Conv2D)            (None, 112, 112, 16)      1040      \n",
      "_________________________________________________________________\n",
      "max_pooling2d_3 (MaxPooling2 (None, 56, 56, 16)        0         \n",
      "_________________________________________________________________\n",
      "flatten_2 (Flatten)          (None, 50176)             0         \n",
      "_________________________________________________________________\n",
      "dense_1 (Dense)              (None, 500)               25088500  \n",
      "_________________________________________________________________\n",
      "dense_2 (Dense)              (None, 133)               66633     \n",
      "=================================================================\n",
      "Total params: 25,156,381\n",
      "Trainable params: 25,156,381\n",
      "Non-trainable params: 0\n",
      "_________________________________________________________________\n"
     ]
    }
   ],
   "source": [
    "from keras.layers import Conv2D, MaxPooling2D, GlobalAveragePooling2D\n",
    "from keras.layers import Dropout, Flatten, Dense\n",
    "from keras.models import Sequential\n",
    "\n",
    "model = Sequential()\n",
    "\n",
    "model.add(Conv2D(filters=16, kernel_size=2, padding='same',activation='relu',input_shape=(224,224,3)))\n",
    "model.add(MaxPooling2D(pool_size=2))\n",
    "model.add(Conv2D(filters=16, kernel_size=2, padding='same',activation='relu'))\n",
    "model.add(MaxPooling2D(pool_size=2))\n",
    "model.add(Flatten())\n",
    "model.add(Dense(500,activation='relu'))\n",
    "model.add(Dense(133,activation='softmax'))\n",
    "\n",
    "model.summary()"
   ]
  },
  {
   "cell_type": "markdown",
   "metadata": {},
   "source": [
    "### Compile the Model"
   ]
  },
  {
   "cell_type": "code",
   "execution_count": 18,
   "metadata": {},
   "outputs": [],
   "source": [
    "model.compile(optimizer='rmsprop', loss='categorical_crossentropy', metrics=['accuracy'])"
   ]
  },
  {
   "cell_type": "markdown",
   "metadata": {},
   "source": [
    "### (IMPLEMENTATION) Train the Model\n",
    "\n",
    "Train your model in the code cell below.  Use model checkpointing to save the model that attains the best validation loss.\n",
    "\n",
    "You are welcome to [augment the training data](https://blog.keras.io/building-powerful-image-classification-models-using-very-little-data.html), but this is not a requirement. "
   ]
  },
  {
   "cell_type": "code",
   "execution_count": 19,
   "metadata": {},
   "outputs": [
    {
     "name": "stdout",
     "output_type": "stream",
     "text": [
      "Train on 6680 samples, validate on 835 samples\n",
      "Epoch 1/20\n",
      "6660/6680 [============================>.] - ETA: 0s - loss: 4.8093 - acc: 0.0275Epoch 00001: val_loss improved from inf to 4.47183, saving model to saved_models/weights.best.from_scratch.hdf5\n",
      "6680/6680 [==============================] - 27s 4ms/step - loss: 4.8075 - acc: 0.0275 - val_loss: 4.4718 - val_acc: 0.0539\n",
      "Epoch 2/20\n",
      "6660/6680 [============================>.] - ETA: 0s - loss: 4.1270 - acc: 0.0896Epoch 00002: val_loss improved from 4.47183 to 4.23613, saving model to saved_models/weights.best.from_scratch.hdf5\n",
      "6680/6680 [==============================] - 27s 4ms/step - loss: 4.1271 - acc: 0.0897 - val_loss: 4.2361 - val_acc: 0.0659\n",
      "Epoch 3/20\n",
      "6660/6680 [============================>.] - ETA: 0s - loss: 3.3222 - acc: 0.2380Epoch 00003: val_loss did not improve\n",
      "6680/6680 [==============================] - 26s 4ms/step - loss: 3.3236 - acc: 0.2376 - val_loss: 4.2653 - val_acc: 0.0814\n",
      "Epoch 4/20\n",
      "6660/6680 [============================>.] - ETA: 0s - loss: 1.9751 - acc: 0.5351Epoch 00004: val_loss did not improve\n",
      "6680/6680 [==============================] - 26s 4ms/step - loss: 1.9743 - acc: 0.5350 - val_loss: 4.8319 - val_acc: 0.0790\n",
      "Epoch 5/20\n",
      "6660/6680 [============================>.] - ETA: 0s - loss: 0.7047 - acc: 0.8423Epoch 00005: val_loss did not improve\n",
      "6680/6680 [==============================] - 26s 4ms/step - loss: 0.7048 - acc: 0.8419 - val_loss: 6.3747 - val_acc: 0.0611\n",
      "Epoch 6/20\n",
      "6660/6680 [============================>.] - ETA: 0s - loss: 0.1843 - acc: 0.9619Epoch 00006: val_loss did not improve\n",
      "6680/6680 [==============================] - 26s 4ms/step - loss: 0.1843 - acc: 0.9620 - val_loss: 7.2208 - val_acc: 0.0719\n",
      "Epoch 7/20\n",
      "6660/6680 [============================>.] - ETA: 0s - loss: 0.0861 - acc: 0.9821Epoch 00007: val_loss did not improve\n",
      "6680/6680 [==============================] - 26s 4ms/step - loss: 0.0859 - acc: 0.9822 - val_loss: 7.8969 - val_acc: 0.0766\n",
      "Epoch 8/20\n",
      "6660/6680 [============================>.] - ETA: 0s - loss: 0.0582 - acc: 0.9874Epoch 00008: val_loss did not improve\n",
      "6680/6680 [==============================] - 26s 4ms/step - loss: 0.0584 - acc: 0.9873 - val_loss: 8.1703 - val_acc: 0.0587\n",
      "Epoch 9/20\n",
      "6660/6680 [============================>.] - ETA: 0s - loss: 0.0480 - acc: 0.9904Epoch 00009: val_loss did not improve\n",
      "6680/6680 [==============================] - 26s 4ms/step - loss: 0.0479 - acc: 0.9904 - val_loss: 8.1104 - val_acc: 0.0647\n",
      "Epoch 10/20\n",
      "6660/6680 [============================>.] - ETA: 0s - loss: 0.0292 - acc: 0.9952Epoch 00010: val_loss did not improve\n",
      "6680/6680 [==============================] - 26s 4ms/step - loss: 0.0291 - acc: 0.9952 - val_loss: 8.5452 - val_acc: 0.0671\n",
      "Epoch 11/20\n",
      "6660/6680 [============================>.] - ETA: 0s - loss: 0.0328 - acc: 0.9949Epoch 00011: val_loss did not improve\n",
      "6680/6680 [==============================] - 26s 4ms/step - loss: 0.0327 - acc: 0.9949 - val_loss: 9.4727 - val_acc: 0.0635\n",
      "Epoch 12/20\n",
      "6660/6680 [============================>.] - ETA: 0s - loss: 0.0320 - acc: 0.9950Epoch 00012: val_loss did not improve\n",
      "6680/6680 [==============================] - 26s 4ms/step - loss: 0.0319 - acc: 0.9951 - val_loss: 9.7014 - val_acc: 0.0611\n",
      "Epoch 13/20\n",
      "6660/6680 [============================>.] - ETA: 0s - loss: 0.0250 - acc: 0.9961Epoch 00013: val_loss did not improve\n",
      "6680/6680 [==============================] - 26s 4ms/step - loss: 0.0249 - acc: 0.9961 - val_loss: 10.3810 - val_acc: 0.0407\n",
      "Epoch 14/20\n",
      "6660/6680 [============================>.] - ETA: 0s - loss: 0.0287 - acc: 0.9958Epoch 00014: val_loss did not improve\n",
      "6680/6680 [==============================] - 26s 4ms/step - loss: 0.0286 - acc: 0.9958 - val_loss: 10.3125 - val_acc: 0.0563\n",
      "Epoch 15/20\n",
      "6660/6680 [============================>.] - ETA: 0s - loss: 0.0217 - acc: 0.9973Epoch 00015: val_loss did not improve\n",
      "6680/6680 [==============================] - 26s 4ms/step - loss: 0.0217 - acc: 0.9973 - val_loss: 10.4649 - val_acc: 0.0407\n",
      "Epoch 16/20\n",
      "6660/6680 [============================>.] - ETA: 0s - loss: 0.0263 - acc: 0.9967Epoch 00016: val_loss did not improve\n",
      "6680/6680 [==============================] - 26s 4ms/step - loss: 0.0262 - acc: 0.9967 - val_loss: 10.5781 - val_acc: 0.0563\n",
      "Epoch 17/20\n",
      "6660/6680 [============================>.] - ETA: 0s - loss: 0.0281 - acc: 0.9964Epoch 00017: val_loss did not improve\n",
      "6680/6680 [==============================] - 26s 4ms/step - loss: 0.0281 - acc: 0.9964 - val_loss: 11.0682 - val_acc: 0.0575\n",
      "Epoch 18/20\n",
      "6660/6680 [============================>.] - ETA: 0s - loss: 0.0243 - acc: 0.9968Epoch 00018: val_loss did not improve\n",
      "6680/6680 [==============================] - 26s 4ms/step - loss: 0.0242 - acc: 0.9969 - val_loss: 11.6123 - val_acc: 0.0575\n",
      "Epoch 19/20\n",
      "6660/6680 [============================>.] - ETA: 0s - loss: 0.0220 - acc: 0.9973Epoch 00019: val_loss did not improve\n",
      "6680/6680 [==============================] - 26s 4ms/step - loss: 0.0219 - acc: 0.9973 - val_loss: 12.4978 - val_acc: 0.0467\n",
      "Epoch 20/20\n",
      "6660/6680 [============================>.] - ETA: 0s - loss: 0.0240 - acc: 0.9964Epoch 00020: val_loss did not improve\n",
      "6680/6680 [==============================] - 26s 4ms/step - loss: 0.0239 - acc: 0.9964 - val_loss: 10.8025 - val_acc: 0.0659\n",
      "dict_keys(['val_loss', 'val_acc', 'loss', 'acc'])\n"
     ]
    },
    {
     "data": {
      "image/png": "[encoded data removed]",
      "text/plain": [
       "<matplotlib.figure.Figure at 0x7f3e4db7d198>"
      ]
     },
     "metadata": {
      "needs_background": "light"
     },
     "output_type": "display_data"
    }
   ],
   "source": [
    "from keras.callbacks import ModelCheckpoint  \n",
    "\n",
    "### TODO: specify the number of epochs that you would like to use to train the model.\n",
    "\n",
    "epochs = 20\n",
    "\n",
    "### Do NOT modify the code below this line.\n",
    "\n",
    "checkpointer = ModelCheckpoint(filepath='saved_models/weights.best.from_scratch.hdf5', \n",
    "                               verbose=1, save_best_only=True)\n",
    "\n",
    "# https://machinelearningmastery.com/display-deep-learning-model-training-history-in-keras/\n",
    "# https://stackoverflow.com/questions/41908379/keras-plot-training-validation-and-test-set-accuracy\n",
    "history = model.fit(train_tensors, train_targets, \n",
    "          validation_data=(valid_tensors, valid_targets),\n",
    "          epochs=epochs, batch_size=20, callbacks=[checkpointer], verbose=1)\n",
    "\n",
    "print(history.history.keys())\n",
    "plt.plot(history.history['acc'])\n",
    "plt.plot(history.history['val_acc'])\n",
    "plt.title('model accuracy')\n",
    "plt.ylabel('accuracy')\n",
    "plt.xlabel('epoch')\n",
    "plt.legend(['train', 'val'], loc='upper left')\n",
    "plt.show()"
   ]
  },
  {
   "cell_type": "markdown",
   "metadata": {},
   "source": [
    "### Load the Model with the Best Validation Loss"
   ]
  },
  {
   "cell_type": "code",
   "execution_count": 20,
   "metadata": {},
   "outputs": [],
   "source": [
    "model.load_weights('saved_models/weights.best.from_scratch.hdf5')"
   ]
  },
  {
   "cell_type": "markdown",
   "metadata": {},
   "source": [
    "### Test the Model\n",
    "\n",
    "Try out your model on the test dataset of dog images.  Ensure that your test accuracy is greater than 1%."
   ]
  },
  {
   "cell_type": "code",
   "execution_count": 21,
   "metadata": {},
   "outputs": [
    {
     "name": "stdout",
     "output_type": "stream",
     "text": [
      "Test accuracy: 7.1770%\n"
     ]
    }
   ],
   "source": [
    "# get index of predicted dog breed for each image in test set\n",
    "dog_breed_predictions = [np.argmax(model.predict(np.expand_dims(tensor, axis=0))) for tensor in test_tensors]\n",
    "\n",
    "# report test accuracy\n",
    "test_accuracy = 100*np.sum(np.array(dog_breed_predictions)==np.argmax(test_targets, axis=1))/len(dog_breed_predictions)\n",
    "print('Test accuracy: %.4f%%' % test_accuracy)"
   ]
  },
  {
   "cell_type": "markdown",
   "metadata": {},
   "source": [
    "---\n",
    "<a id='step4'></a>\n",
    "## Step 4: Use a CNN to Classify Dog Breeds\n",
    "\n",
    "To reduce training time without sacrificing accuracy, we show you how to train a CNN using transfer learning.  In the following step, you will get a chance to use transfer learning to train your own CNN.\n",
    "\n",
    "### Obtain Bottleneck Features"
   ]
  },
  {
   "cell_type": "code",
   "execution_count": 22,
   "metadata": {},
   "outputs": [],
   "source": [
    "bottleneck_features = np.load('bottleneck_features/DogVGG16Data.npz')\n",
    "train_VGG16 = bottleneck_features['train']\n",
    "valid_VGG16 = bottleneck_features['valid']\n",
    "test_VGG16 = bottleneck_features['test']"
   ]
  },
  {
   "cell_type": "markdown",
   "metadata": {},
   "source": [
    "### Model Architecture\n",
    "\n",
    "The model uses the the pre-trained VGG-16 model as a fixed feature extractor, where the last convolutional output of VGG-16 is fed as input to our model.  We only add a global average pooling layer and a fully connected layer, where the latter contains one node for each dog category and is equipped with a softmax."
   ]
  },
  {
   "cell_type": "code",
   "execution_count": 23,
   "metadata": {},
   "outputs": [
    {
     "name": "stdout",
     "output_type": "stream",
     "text": [
      "_________________________________________________________________\n",
      "Layer (type)                 Output Shape              Param #   \n",
      "=================================================================\n",
      "global_average_pooling2d_1 ( (None, 512)               0         \n",
      "_________________________________________________________________\n",
      "dense_3 (Dense)              (None, 133)               68229     \n",
      "=================================================================\n",
      "Total params: 68,229\n",
      "Trainable params: 68,229\n",
      "Non-trainable params: 0\n",
      "_________________________________________________________________\n"
     ]
    }
   ],
   "source": [
    "VGG16_model = Sequential()\n",
    "VGG16_model.add(GlobalAveragePooling2D(input_shape=train_VGG16.shape[1:]))\n",
    "VGG16_model.add(Dense(133, activation='softmax'))\n",
    "\n",
    "VGG16_model.summary()"
   ]
  },
  {
   "cell_type": "markdown",
   "metadata": {},
   "source": [
    "### Compile the Model"
   ]
  },
  {
   "cell_type": "code",
   "execution_count": 24,
   "metadata": {},
   "outputs": [],
   "source": [
    "VGG16_model.compile(loss='categorical_crossentropy', optimizer='rmsprop', metrics=['accuracy'])"
   ]
  },
  {
   "cell_type": "markdown",
   "metadata": {},
   "source": [
    "### Train the Model"
   ]
  },
  {
   "cell_type": "code",
   "execution_count": 25,
   "metadata": {},
   "outputs": [
    {
     "name": "stdout",
     "output_type": "stream",
     "text": [
      "Train on 6680 samples, validate on 835 samples\n",
      "Epoch 1/20\n",
      "6560/6680 [============================>.] - ETA: 0s - loss: 12.8419 - acc: 0.0968Epoch 00001: val_loss improved from inf to 11.25836, saving model to saved_models/weights.best.VGG16.hdf5\n",
      "6680/6680 [==============================] - 2s 272us/step - loss: 12.8053 - acc: 0.0993 - val_loss: 11.2584 - val_acc: 0.1904\n",
      "Epoch 2/20\n",
      "6500/6680 [============================>.] - ETA: 0s - loss: 10.8992 - acc: 0.2442Epoch 00002: val_loss improved from 11.25836 to 10.84058, saving model to saved_models/weights.best.VGG16.hdf5\n",
      "6680/6680 [==============================] - 2s 263us/step - loss: 10.9065 - acc: 0.2449 - val_loss: 10.8406 - val_acc: 0.2491\n",
      "Epoch 3/20\n",
      "6660/6680 [============================>.] - ETA: 0s - loss: 10.4981 - acc: 0.2922Epoch 00003: val_loss improved from 10.84058 to 10.52494, saving model to saved_models/weights.best.VGG16.hdf5\n",
      "6680/6680 [==============================] - 2s 269us/step - loss: 10.4988 - acc: 0.2922 - val_loss: 10.5249 - val_acc: 0.2826\n",
      "Epoch 4/20\n",
      "6500/6680 [============================>.] - ETA: 0s - loss: 10.2513 - acc: 0.3223Epoch 00004: val_loss improved from 10.52494 to 10.46678, saving model to saved_models/weights.best.VGG16.hdf5\n",
      "6680/6680 [==============================] - 2s 281us/step - loss: 10.2426 - acc: 0.3231 - val_loss: 10.4668 - val_acc: 0.2934\n",
      "Epoch 5/20\n",
      "6520/6680 [============================>.] - ETA: 0s - loss: 10.1502 - acc: 0.3419Epoch 00005: val_loss improved from 10.46678 to 10.41012, saving model to saved_models/weights.best.VGG16.hdf5\n",
      "6680/6680 [==============================] - 2s 251us/step - loss: 10.1371 - acc: 0.3422 - val_loss: 10.4101 - val_acc: 0.2958\n",
      "Epoch 6/20\n",
      "6640/6680 [============================>.] - ETA: 0s - loss: 9.9709 - acc: 0.3554Epoch 00006: val_loss improved from 10.41012 to 10.14741, saving model to saved_models/weights.best.VGG16.hdf5\n",
      "6680/6680 [==============================] - 2s 249us/step - loss: 9.9786 - acc: 0.3549 - val_loss: 10.1474 - val_acc: 0.3198\n",
      "Epoch 7/20\n",
      "6620/6680 [============================>.] - ETA: 0s - loss: 9.8468 - acc: 0.3693Epoch 00007: val_loss did not improve\n",
      "6680/6680 [==============================] - 2s 267us/step - loss: 9.8438 - acc: 0.3696 - val_loss: 10.1785 - val_acc: 0.3150\n",
      "Epoch 8/20\n",
      "6620/6680 [============================>.] - ETA: 0s - loss: 9.6507 - acc: 0.3748Epoch 00008: val_loss improved from 10.14741 to 9.88251, saving model to saved_models/weights.best.VGG16.hdf5\n",
      "6680/6680 [==============================] - 2s 257us/step - loss: 9.6396 - acc: 0.3756 - val_loss: 9.8825 - val_acc: 0.3293\n",
      "Epoch 9/20\n",
      "6620/6680 [============================>.] - ETA: 0s - loss: 9.2419 - acc: 0.3958Epoch 00009: val_loss improved from 9.88251 to 9.52334, saving model to saved_models/weights.best.VGG16.hdf5\n",
      "6680/6680 [==============================] - 2s 269us/step - loss: 9.2397 - acc: 0.3955 - val_loss: 9.5233 - val_acc: 0.3281\n",
      "Epoch 10/20\n",
      "6640/6680 [============================>.] - ETA: 0s - loss: 8.7625 - acc: 0.4306Epoch 00010: val_loss improved from 9.52334 to 9.24427, saving model to saved_models/weights.best.VGG16.hdf5\n",
      "6680/6680 [==============================] - 2s 270us/step - loss: 8.7731 - acc: 0.4298 - val_loss: 9.2443 - val_acc: 0.3545\n",
      "Epoch 11/20\n",
      "6560/6680 [============================>.] - ETA: 0s - loss: 8.5822 - acc: 0.4454Epoch 00011: val_loss improved from 9.24427 to 9.02069, saving model to saved_models/weights.best.VGG16.hdf5\n",
      "6680/6680 [==============================] - 2s 263us/step - loss: 8.5884 - acc: 0.4451 - val_loss: 9.0207 - val_acc: 0.3772\n",
      "Epoch 12/20\n",
      "6560/6680 [============================>.] - ETA: 0s - loss: 8.4766 - acc: 0.4549Epoch 00012: val_loss improved from 9.02069 to 8.93988, saving model to saved_models/weights.best.VGG16.hdf5\n",
      "6680/6680 [==============================] - 2s 257us/step - loss: 8.4535 - acc: 0.4566 - val_loss: 8.9399 - val_acc: 0.3916\n",
      "Epoch 13/20\n",
      "6540/6680 [============================>.] - ETA: 0s - loss: 8.3751 - acc: 0.4674Epoch 00013: val_loss improved from 8.93988 to 8.91925, saving model to saved_models/weights.best.VGG16.hdf5\n",
      "6680/6680 [==============================] - 2s 251us/step - loss: 8.3686 - acc: 0.4680 - val_loss: 8.9193 - val_acc: 0.3916\n",
      "Epoch 14/20\n",
      "6460/6680 [============================>.] - ETA: 0s - loss: 8.2052 - acc: 0.4745Epoch 00014: val_loss improved from 8.91925 to 8.74804, saving model to saved_models/weights.best.VGG16.hdf5\n",
      "6680/6680 [==============================] - 2s 261us/step - loss: 8.1992 - acc: 0.4747 - val_loss: 8.7480 - val_acc: 0.4024\n",
      "Epoch 15/20\n",
      "6500/6680 [============================>.] - ETA: 0s - loss: 8.1102 - acc: 0.4822Epoch 00015: val_loss improved from 8.74804 to 8.65679, saving model to saved_models/weights.best.VGG16.hdf5\n",
      "6680/6680 [==============================] - 2s 253us/step - loss: 8.1058 - acc: 0.4826 - val_loss: 8.6568 - val_acc: 0.4036\n",
      "Epoch 16/20\n",
      "6660/6680 [============================>.] - ETA: 0s - loss: 8.0316 - acc: 0.4880Epoch 00016: val_loss did not improve\n",
      "6680/6680 [==============================] - 2s 268us/step - loss: 8.0342 - acc: 0.4879 - val_loss: 8.7170 - val_acc: 0.4012\n",
      "Epoch 17/20\n",
      "6620/6680 [============================>.] - ETA: 0s - loss: 7.9597 - acc: 0.4940Epoch 00017: val_loss improved from 8.65679 to 8.61039, saving model to saved_models/weights.best.VGG16.hdf5\n",
      "6680/6680 [==============================] - 2s 277us/step - loss: 7.9606 - acc: 0.4940 - val_loss: 8.6104 - val_acc: 0.4108\n",
      "Epoch 18/20\n",
      "6500/6680 [============================>.] - ETA: 0s - loss: 7.8847 - acc: 0.4998Epoch 00018: val_loss improved from 8.61039 to 8.48369, saving model to saved_models/weights.best.VGG16.hdf5\n",
      "6680/6680 [==============================] - 2s 252us/step - loss: 7.8903 - acc: 0.4994 - val_loss: 8.4837 - val_acc: 0.4180\n",
      "Epoch 19/20\n",
      "6620/6680 [============================>.] - ETA: 0s - loss: 7.7511 - acc: 0.5044Epoch 00019: val_loss did not improve\n",
      "6680/6680 [==============================] - 2s 260us/step - loss: 7.7587 - acc: 0.5040 - val_loss: 8.4892 - val_acc: 0.4060\n",
      "Epoch 20/20\n",
      "6540/6680 [============================>.] - ETA: 0s - loss: 7.6222 - acc: 0.5113Epoch 00020: val_loss improved from 8.48369 to 8.41372, saving model to saved_models/weights.best.VGG16.hdf5\n",
      "6680/6680 [==============================] - 2s 260us/step - loss: 7.6278 - acc: 0.5108 - val_loss: 8.4137 - val_acc: 0.4192\n"
     ]
    },
    {
     "data": {
      "text/plain": [
       "<keras.callbacks.History at 0x7f3e4c0ba7f0>"
      ]
     },
     "execution_count": 25,
     "metadata": {},
     "output_type": "execute_result"
    }
   ],
   "source": [
    "checkpointer = ModelCheckpoint(filepath='saved_models/weights.best.VGG16.hdf5', \n",
    "                               verbose=1, save_best_only=True)\n",
    "\n",
    "VGG16_model.fit(train_VGG16, train_targets, \n",
    "          validation_data=(valid_VGG16, valid_targets),\n",
    "          epochs=20, batch_size=20, callbacks=[checkpointer], verbose=1)"
   ]
  },
  {
   "cell_type": "markdown",
   "metadata": {},
   "source": [
    "### Load the Model with the Best Validation Loss"
   ]
  },
  {
   "cell_type": "code",
   "execution_count": 26,
   "metadata": {},
   "outputs": [],
   "source": [
    "VGG16_model.load_weights('saved_models/weights.best.VGG16.hdf5')"
   ]
  },
  {
   "cell_type": "markdown",
   "metadata": {},
   "source": [
    "### Test the Model\n",
    "\n",
    "Now, we can use the CNN to test how well it identifies breed within our test dataset of dog images.  We print the test accuracy below."
   ]
  },
  {
   "cell_type": "code",
   "execution_count": 27,
   "metadata": {},
   "outputs": [
    {
     "name": "stdout",
     "output_type": "stream",
     "text": [
      "Test accuracy: 43.0622%\n"
     ]
    }
   ],
   "source": [
    "# get index of predicted dog breed for each image in test set\n",
    "VGG16_predictions = [np.argmax(VGG16_model.predict(np.expand_dims(feature, axis=0))) for feature in test_VGG16]\n",
    "\n",
    "# report test accuracy\n",
    "test_accuracy = 100*np.sum(np.array(VGG16_predictions)==np.argmax(test_targets, axis=1))/len(VGG16_predictions)\n",
    "print('Test accuracy: %.4f%%' % test_accuracy)"
   ]
  },
  {
   "cell_type": "markdown",
   "metadata": {},
   "source": [
    "### Predict Dog Breed with the Model"
   ]
  },
  {
   "cell_type": "code",
   "execution_count": 28,
   "metadata": {},
   "outputs": [],
   "source": [
    "from extract_bottleneck_features import *\n",
    "\n",
    "def VGG16_predict_breed(img_path):\n",
    "    # extract bottleneck features\n",
    "    bottleneck_feature = extract_VGG16(path_to_tensor(img_path))\n",
    "    # obtain predicted vector\n",
    "    predicted_vector = VGG16_model.predict(bottleneck_feature)\n",
    "    # return dog breed that is predicted by the model\n",
    "    return dog_names[np.argmax(predicted_vector)]"
   ]
  },
  {
   "cell_type": "markdown",
   "metadata": {},
   "source": [
    "---\n",
    "<a id='step5'></a>\n",
    "## Step 5: Create a CNN to Classify Dog Breeds (using Transfer Learning)\n",
    "\n",
    "You will now use transfer learning to create a CNN that can identify dog breed from images.  Your CNN must attain at least 60% accuracy on the test set.\n",
    "\n",
    "In Step 4, we used transfer learning to create a CNN using VGG-16 bottleneck features.  In this section, you must use the bottleneck features from a different pre-trained model.  To make things easier for you, we have pre-computed the features for all of the networks that are currently available in Keras:\n",
    "- [VGG-19](https://s3-us-west-1.amazonaws.com/udacity-aind/dog-project/DogVGG19Data.npz) bottleneck features\n",
    "- [ResNet-50](https://s3-us-west-1.amazonaws.com/udacity-aind/dog-project/DogResnet50Data.npz) bottleneck features\n",
    "- [Inception](https://s3-us-west-1.amazonaws.com/udacity-aind/dog-project/DogInceptionV3Data.npz) bottleneck features\n",
    "- [Xception](https://s3-us-west-1.amazonaws.com/udacity-aind/dog-project/DogXceptionData.npz) bottleneck features\n",
    "\n",
    "The files are encoded as such:\n",
    "\n",
    "    Dog{network}Data.npz\n",
    "    \n",
    "where `{network}`, in the above filename, can be one of `VGG19`, `Resnet50`, `InceptionV3`, or `Xception`.  Pick one of the above architectures, download the corresponding bottleneck features, and store the downloaded file in the `bottleneck_features/` folder in the repository.\n",
    "\n",
    "### (IMPLEMENTATION) Obtain Bottleneck Features\n",
    "\n",
    "In the code block below, extract the bottleneck features corresponding to the train, test, and validation sets by running the following:\n",
    "\n",
    "    bottleneck_features = np.load('bottleneck_features/Dog{network}Data.npz')\n",
    "    train_{network} = bottleneck_features['train']\n",
    "    valid_{network} = bottleneck_features['valid']\n",
    "    test_{network} = bottleneck_features['test']"
   ]
  },
  {
   "cell_type": "code",
   "execution_count": 29,
   "metadata": {},
   "outputs": [],
   "source": [
    "### TODO: Obtain bottleneck features from another pre-trained CNN.\n",
    "\n",
    "bottleneck_features = np.load('bottleneck_features/DogResnet50Data.npz')\n",
    "train_Resnet50 = bottleneck_features['train']\n",
    "valid_Resnet50 = bottleneck_features['valid']\n",
    "test_Resnet50 = bottleneck_features['test']"
   ]
  },
  {
   "cell_type": "markdown",
   "metadata": {},
   "source": [
    "### (IMPLEMENTATION) Model Architecture\n",
    "\n",
    "Create a CNN to classify dog breed.  At the end of your code cell block, summarize the layers of your model by executing the line:\n",
    "    \n",
    "        <your model's name>.summary()\n",
    "   \n",
    "__Question 5:__ Outline the steps you took to get to your final CNN architecture and your reasoning at each step.  Describe why you think the architecture is suitable for the current problem.\n",
    "\n",
    "__Answer:__ \n",
    "\n",
    "* I chose to build my model on top of the pre-trained CNN ResNet-50.\n",
    "* ResNet-50 weights were initialized based on the imagenet training data\n",
    "* I used transfer learning, by adding 2 further layers to the pre-trained CNN\n",
    "* I used one GlobalAveragePooling layer to reduce the dimensionality of the image data\n",
    "* The output of the GlobalAveragePooling layer is then fed into a softmax activated dense layer\n",
    "* The dense layer serves as the output with 1 node per dog breed (133), returning the probability for each node given the input image\n",
    "\n"
   ]
  },
  {
   "cell_type": "code",
   "execution_count": 30,
   "metadata": {},
   "outputs": [
    {
     "name": "stdout",
     "output_type": "stream",
     "text": [
      "(6680, 1, 1, 2048)\n",
      "(835, 1, 1, 2048)\n",
      "(836, 1, 1, 2048)\n",
      "8351\n"
     ]
    }
   ],
   "source": [
    "### Analyzing shape of bottleneck Dataset\n",
    "\n",
    "print(train_Resnet50.shape)\n",
    "print(valid_Resnet50.shape)\n",
    "print(test_Resnet50.shape)\n",
    "print(train_Resnet50.shape[0] + valid_Resnet50.shape[0] + test_Resnet50.shape[0])\n"
   ]
  },
  {
   "cell_type": "code",
   "execution_count": 31,
   "metadata": {},
   "outputs": [
    {
     "data": {
      "text/plain": [
       "(1, 1, 2048)"
      ]
     },
     "execution_count": 31,
     "metadata": {},
     "output_type": "execute_result"
    }
   ],
   "source": [
    "### Analyzing shape of images to pass over to input \n",
    "\n",
    "valid_Resnet50.shape[1:]"
   ]
  },
  {
   "cell_type": "code",
   "execution_count": 32,
   "metadata": {},
   "outputs": [
    {
     "name": "stdout",
     "output_type": "stream",
     "text": [
      "_________________________________________________________________\n",
      "Layer (type)                 Output Shape              Param #   \n",
      "=================================================================\n",
      "global_average_pooling2d_2 ( (None, 2048)              0         \n",
      "_________________________________________________________________\n",
      "dense_4 (Dense)              (None, 133)               272517    \n",
      "=================================================================\n",
      "Total params: 272,517\n",
      "Trainable params: 272,517\n",
      "Non-trainable params: 0\n",
      "_________________________________________________________________\n"
     ]
    }
   ],
   "source": [
    "### TODO: Define your architecture.\n",
    "from keras.layers import Dense, Flatten\n",
    "from keras.models import Sequential\n",
    "\n",
    "model = Sequential()\n",
    "model.add(GlobalAveragePooling2D(input_shape=valid_Resnet50.shape[1:]))\n",
    "model.add(Dense(133, activation='softmax'))\n",
    "\n",
    "model.summary()"
   ]
  },
  {
   "cell_type": "markdown",
   "metadata": {},
   "source": [
    "### (IMPLEMENTATION) Compile the Model"
   ]
  },
  {
   "cell_type": "code",
   "execution_count": 33,
   "metadata": {},
   "outputs": [],
   "source": [
    "### TODO: Compile the model.\n",
    "\n",
    "model.compile(loss='categorical_crossentropy', optimizer='rmsprop', metrics=['accuracy'])"
   ]
  },
  {
   "cell_type": "markdown",
   "metadata": {},
   "source": [
    "### (IMPLEMENTATION) Train the Model\n",
    "\n",
    "Train your model in the code cell below.  Use model checkpointing to save the model that attains the best validation loss.  \n",
    "\n",
    "You are welcome to [augment the training data](https://blog.keras.io/building-powerful-image-classification-models-using-very-little-data.html), but this is not a requirement. "
   ]
  },
  {
   "cell_type": "code",
   "execution_count": 34,
   "metadata": {},
   "outputs": [
    {
     "name": "stdout",
     "output_type": "stream",
     "text": [
      "[[ 0.  0.  0. ...,  0.  0.  0.]\n",
      " [ 0.  0.  0. ...,  0.  0.  0.]\n",
      " [ 0.  0.  0. ...,  0.  0.  0.]\n",
      " ..., \n",
      " [ 0.  0.  0. ...,  0.  0.  0.]\n",
      " [ 0.  0.  0. ...,  0.  0.  0.]\n",
      " [ 0.  0.  0. ...,  0.  0.  0.]]\n"
     ]
    }
   ],
   "source": [
    "print(train_targets)"
   ]
  },
  {
   "cell_type": "code",
   "execution_count": 35,
   "metadata": {},
   "outputs": [
    {
     "name": "stdout",
     "output_type": "stream",
     "text": [
      "Train on 6680 samples, validate on 835 samples\n",
      "Epoch 1/20\n",
      "6368/6680 [===========================>..] - ETA: 0s - loss: 1.8101 - acc: 0.5678Epoch 00001: val_loss improved from inf to 0.84399, saving model to resnet50_transfer_best.hdf5\n",
      "6680/6680 [==============================] - 1s 202us/step - loss: 1.7683 - acc: 0.5762 - val_loss: 0.8440 - val_acc: 0.7545\n",
      "Epoch 2/20\n",
      "6432/6680 [===========================>..] - ETA: 0s - loss: 0.4558 - acc: 0.8647Epoch 00002: val_loss improved from 0.84399 to 0.68593, saving model to resnet50_transfer_best.hdf5\n",
      "6680/6680 [==============================] - 1s 152us/step - loss: 0.4533 - acc: 0.8650 - val_loss: 0.6859 - val_acc: 0.7892\n",
      "Epoch 3/20\n",
      "6336/6680 [===========================>..] - ETA: 0s - loss: 0.2608 - acc: 0.9211Epoch 00003: val_loss improved from 0.68593 to 0.62639, saving model to resnet50_transfer_best.hdf5\n",
      "6680/6680 [==============================] - 1s 163us/step - loss: 0.2613 - acc: 0.9213 - val_loss: 0.6264 - val_acc: 0.7916\n",
      "Epoch 4/20\n",
      "6432/6680 [===========================>..] - ETA: 0s - loss: 0.1653 - acc: 0.9520Epoch 00004: val_loss improved from 0.62639 to 0.61290, saving model to resnet50_transfer_best.hdf5\n",
      "6680/6680 [==============================] - 1s 152us/step - loss: 0.1666 - acc: 0.9516 - val_loss: 0.6129 - val_acc: 0.8072\n",
      "Epoch 5/20\n",
      "6432/6680 [===========================>..] - ETA: 0s - loss: 0.1114 - acc: 0.9701Epoch 00005: val_loss did not improve\n",
      "6680/6680 [==============================] - 1s 150us/step - loss: 0.1113 - acc: 0.9702 - val_loss: 0.6427 - val_acc: 0.7952\n",
      "Epoch 6/20\n",
      "6400/6680 [===========================>..] - ETA: 0s - loss: 0.0781 - acc: 0.9805Epoch 00006: val_loss did not improve\n",
      "6680/6680 [==============================] - 1s 151us/step - loss: 0.0766 - acc: 0.9811 - val_loss: 0.6624 - val_acc: 0.8192\n",
      "Epoch 7/20\n",
      "6400/6680 [===========================>..] - ETA: 0s - loss: 0.0509 - acc: 0.9888Epoch 00007: val_loss did not improve\n",
      "6680/6680 [==============================] - 1s 152us/step - loss: 0.0525 - acc: 0.9877 - val_loss: 0.6698 - val_acc: 0.8156\n",
      "Epoch 8/20\n",
      "6368/6680 [===========================>..] - ETA: 0s - loss: 0.0361 - acc: 0.9920Epoch 00008: val_loss did not improve\n",
      "6680/6680 [==============================] - 1s 151us/step - loss: 0.0361 - acc: 0.9919 - val_loss: 0.6649 - val_acc: 0.8275\n",
      "Epoch 9/20\n",
      "6656/6680 [============================>.] - ETA: 0s - loss: 0.0299 - acc: 0.9931Epoch 00009: val_loss did not improve\n",
      "6680/6680 [==============================] - 1s 164us/step - loss: 0.0298 - acc: 0.9931 - val_loss: 0.7007 - val_acc: 0.8204\n",
      "Epoch 10/20\n",
      "6368/6680 [===========================>..] - ETA: 0s - loss: 0.0214 - acc: 0.9969Epoch 00010: val_loss did not improve\n",
      "6680/6680 [==============================] - 1s 170us/step - loss: 0.0212 - acc: 0.9967 - val_loss: 0.6844 - val_acc: 0.8240\n",
      "Epoch 11/20\n",
      "6464/6680 [============================>.] - ETA: 0s - loss: 0.0177 - acc: 0.9964Epoch 00011: val_loss did not improve\n",
      "6680/6680 [==============================] - 1s 157us/step - loss: 0.0175 - acc: 0.9966 - val_loss: 0.7156 - val_acc: 0.8323\n",
      "Epoch 12/20\n",
      "6368/6680 [===========================>..] - ETA: 0s - loss: 0.0139 - acc: 0.9970Epoch 00012: val_loss did not improve\n",
      "6680/6680 [==============================] - 1s 152us/step - loss: 0.0139 - acc: 0.9969 - val_loss: 0.6933 - val_acc: 0.8383\n",
      "Epoch 13/20\n",
      "6368/6680 [===========================>..] - ETA: 0s - loss: 0.0102 - acc: 0.9983Epoch 00013: val_loss did not improve\n",
      "6680/6680 [==============================] - 1s 150us/step - loss: 0.0100 - acc: 0.9984 - val_loss: 0.7384 - val_acc: 0.8263\n",
      "Epoch 14/20\n",
      "6368/6680 [===========================>..] - ETA: 0s - loss: 0.0088 - acc: 0.9981Epoch 00014: val_loss did not improve\n",
      "6680/6680 [==============================] - 1s 151us/step - loss: 0.0085 - acc: 0.9982 - val_loss: 0.7629 - val_acc: 0.8204\n",
      "Epoch 15/20\n",
      "6496/6680 [============================>.] - ETA: 0s - loss: 0.0077 - acc: 0.9983Epoch 00015: val_loss did not improve\n",
      "6680/6680 [==============================] - 1s 149us/step - loss: 0.0075 - acc: 0.9984 - val_loss: 0.7993 - val_acc: 0.8263\n",
      "Epoch 16/20\n",
      "6528/6680 [============================>.] - ETA: 0s - loss: 0.0073 - acc: 0.9986Epoch 00016: val_loss did not improve\n",
      "6680/6680 [==============================] - 1s 159us/step - loss: 0.0072 - acc: 0.9987 - val_loss: 0.8267 - val_acc: 0.8299\n",
      "Epoch 17/20\n",
      "6336/6680 [===========================>..] - ETA: 0s - loss: 0.0056 - acc: 0.9979Epoch 00017: val_loss did not improve\n",
      "6680/6680 [==============================] - 1s 162us/step - loss: 0.0054 - acc: 0.9981 - val_loss: 0.8204 - val_acc: 0.8323\n",
      "Epoch 18/20\n",
      "6592/6680 [============================>.] - ETA: 0s - loss: 0.0047 - acc: 0.9986Epoch 00018: val_loss did not improve\n",
      "6680/6680 [==============================] - 1s 153us/step - loss: 0.0053 - acc: 0.9985 - val_loss: 0.8458 - val_acc: 0.8216\n",
      "Epoch 19/20\n",
      "6464/6680 [============================>.] - ETA: 0s - loss: 0.0056 - acc: 0.9986Epoch 00019: val_loss did not improve\n",
      "6680/6680 [==============================] - 1s 174us/step - loss: 0.0059 - acc: 0.9984 - val_loss: 0.8180 - val_acc: 0.8359\n",
      "Epoch 20/20\n",
      "6496/6680 [============================>.] - ETA: 0s - loss: 0.0050 - acc: 0.9986Epoch 00020: val_loss did not improve\n",
      "6680/6680 [==============================] - 1s 148us/step - loss: 0.0050 - acc: 0.9987 - val_loss: 0.8836 - val_acc: 0.8216\n",
      "dict_keys(['val_loss', 'val_acc', 'loss', 'acc'])\n"
     ]
    },
    {
     "data": {
      "image/png": "[encoded data removed]",
      "text/plain": [
       "<matplotlib.figure.Figure at 0x7f3e33c53940>"
      ]
     },
     "metadata": {
      "needs_background": "light"
     },
     "output_type": "display_data"
    }
   ],
   "source": [
    "### TODO: Train the model.\n",
    "\n",
    "from keras.callbacks import ModelCheckpoint\n",
    "\n",
    "checkpointer = ModelCheckpoint(filepath=\"resnet50_transfer_best.hdf5\", verbose=1,\n",
    "                              save_best_only=True)\n",
    "\n",
    "# https://machinelearningmastery.com/display-deep-learning-model-training-history-in-keras/\n",
    "# https://stackoverflow.com/questions/41908379/keras-plot-training-validation-and-test-set-accuracy\n",
    "history = model.fit(train_Resnet50, train_targets,epochs=20, validation_data=(valid_Resnet50, valid_targets),\n",
    "         callbacks=[checkpointer], verbose=1,shuffle=True)\n",
    "\n",
    "print(history.history.keys())\n",
    "plt.plot(history.history['acc'])\n",
    "plt.plot(history.history['val_acc'])\n",
    "plt.title('model accuracy')\n",
    "plt.ylabel('accuracy')\n",
    "plt.xlabel('epoch')\n",
    "plt.legend(['train', 'val'], loc='upper left')\n",
    "plt.show()"
   ]
  },
  {
   "cell_type": "markdown",
   "metadata": {},
   "source": [
    "### (IMPLEMENTATION) Load the Model with the Best Validation Loss"
   ]
  },
  {
   "cell_type": "code",
   "execution_count": 36,
   "metadata": {},
   "outputs": [],
   "source": [
    "### TODO: Load the model weights with the best validation loss.\n",
    "\n",
    "model.load_weights(\"resnet50_transfer_best.hdf5\")"
   ]
  },
  {
   "cell_type": "markdown",
   "metadata": {},
   "source": [
    "### (IMPLEMENTATION) Test the Model\n",
    "\n",
    "Try out your model on the test dataset of dog images. Ensure that your test accuracy is greater than 60%."
   ]
  },
  {
   "cell_type": "code",
   "execution_count": 37,
   "metadata": {},
   "outputs": [
    {
     "name": "stdout",
     "output_type": "stream",
     "text": [
      "\n",
      " Test accuracy: 0.814593301435\n"
     ]
    }
   ],
   "source": [
    "### TODO: Calculate classification accuracy on the test dataset.\n",
    "\n",
    "score = model.evaluate(test_Resnet50,test_targets, verbose=0)\n",
    "print(\"\\n\",\"Test accuracy:\", score[1])"
   ]
  },
  {
   "cell_type": "markdown",
   "metadata": {},
   "source": [
    "### (IMPLEMENTATION) Predict Dog Breed with the Model\n",
    "\n",
    "Write a function that takes an image path as input and returns the dog breed (`Affenpinscher`, `Afghan_hound`, etc) that is predicted by your model.  \n",
    "\n",
    "Similar to the analogous function in Step 5, your function should have three steps:\n",
    "1. Extract the bottleneck features corresponding to the chosen CNN model.\n",
    "2. Supply the bottleneck features as input to the model to return the predicted vector.  Note that the argmax of this prediction vector gives the index of the predicted dog breed.\n",
    "3. Use the `dog_names` array defined in Step 0 of this notebook to return the corresponding breed.\n",
    "\n",
    "The functions to extract the bottleneck features can be found in `extract_bottleneck_features.py`, and they have been imported in an earlier code cell.  To obtain the bottleneck features corresponding to your chosen CNN architecture, you need to use the function\n",
    "\n",
    "    extract_{network}\n",
    "    \n",
    "where `{network}`, in the above filename, should be one of `VGG19`, `Resnet50`, `InceptionV3`, or `Xception`."
   ]
  },
  {
   "cell_type": "code",
   "execution_count": 38,
   "metadata": {},
   "outputs": [
    {
     "name": "stdout",
     "output_type": "stream",
     "text": [
      "dog_names before cleaning:\n",
      "\n",
      "['ages/train/126.Saint_bernard', 'ages/train/127.Silky_terrier', 'ages/train/128.Smooth_fox_terrier', 'ages/train/129.Tibetan_mastiff', 'ages/train/130.Welsh_springer_spaniel', 'ages/train/131.Wirehaired_pointing_griffon', 'ages/train/132.Xoloitzcuintli', 'ages/train/133.Yorkshire_terrier']\n",
      "\n",
      "dog_names after cleaning:\n",
      "\n",
      "['Saint_bernard', 'Silky_terrier', 'Smooth_fox_terrier', 'Tibetan_mastiff', 'Welsh_springer_spaniel', 'Wirehaired_pointing_griffon', 'Xoloitzcuintli', 'Yorkshire_terrier']\n"
     ]
    }
   ],
   "source": [
    "# Cleaning up dog_names list in order to get only the name without the preceeding part\n",
    "# e.g. 'ages/train/001.Affenpinscher' shall only rerun 'Affenpinscher'\n",
    "\n",
    "print(\"dog_names before cleaning:\\n\")\n",
    "print(dog_names[125:])\n",
    "\n",
    "dog_names = [dog_name.split(\"/\")[2][4:] for dog_name in dog_names]\n",
    "print(\"\\ndog_names after cleaning:\\n\")\n",
    "print(dog_names[125:])"
   ]
  },
  {
   "cell_type": "code",
   "execution_count": 39,
   "metadata": {},
   "outputs": [],
   "source": [
    "### TODO: Write a function that takes a path to an image as input\n",
    "### and returns the dog breed that is predicted by the model.\n",
    "\n",
    "def Resnet50_predict_breed(img_path):\n",
    "    # extract bottleneck features\n",
    "    bottleneck_feature = extract_Resnet50(path_to_tensor(img_path))\n",
    "    # obtain predicted vector\n",
    "    predicted_vector = model.predict(bottleneck_feature)\n",
    "    # return dog breed that is predicted by the model\n",
    "    return dog_names[np.argmax(predicted_vector)]"
   ]
  },
  {
   "cell_type": "code",
   "execution_count": 72,
   "metadata": {},
   "outputs": [
    {
     "data": {
      "text/plain": [
       "'Labrador_retriever'"
      ]
     },
     "execution_count": 72,
     "metadata": {},
     "output_type": "execute_result"
    }
   ],
   "source": [
    "# Testing prediction function\n",
    "\n",
    "Resnet50_predict_breed(\"images/Labrador_retriever_06449.jpg\")"
   ]
  },
  {
   "cell_type": "markdown",
   "metadata": {},
   "source": [
    "<img src=\"images/Labrador_retriever_06457.jpg\" width=\"150\">"
   ]
  },
  {
   "cell_type": "markdown",
   "metadata": {},
   "source": [
    "---\n",
    "<a id='step6'></a>\n",
    "## Step 6: Write your Algorithm\n",
    "\n",
    "Write an algorithm that accepts a file path to an image and first determines whether the image contains a human, dog, or neither.  Then,\n",
    "- if a __dog__ is detected in the image, return the predicted breed.\n",
    "- if a __human__ is detected in the image, return the resembling dog breed.\n",
    "- if __neither__ is detected in the image, provide output that indicates an error.\n",
    "\n",
    "You are welcome to write your own functions for detecting humans and dogs in images, but feel free to use the `face_detector` and `dog_detector` functions developed above.  You are __required__ to use your CNN from Step 5 to predict dog breed.  \n",
    "\n",
    "A sample image and output for our algorithm is provided below, but feel free to design your own user experience!\n",
    "\n",
    "![Sample Human Output](images/sample_human_2.png)\n",
    "\n",
    "This photo looks like an Afghan Hound.\n",
    "### (IMPLEMENTATION) Write your Algorithm"
   ]
  },
  {
   "cell_type": "code",
   "execution_count": 41,
   "metadata": {},
   "outputs": [],
   "source": [
    "### TODO: Write your algorithm.\n",
    "### Feel free to use as many code cells as needed.\n",
    "\n",
    "def human_face_dog_evaluator(img_path):\n",
    "    if face_detector(img_path):\n",
    "        resembled_dog_breed = Resnet50_predict_breed(img_path)\n",
    "        return \"The dog breed closest resembling this photo: \" + resembled_dog_breed\n",
    "    elif dog_detector(img_path):\n",
    "        dog_breed = Resnet50_predict_breed(img_path)\n",
    "        return \"The following dog breed was detected: \" + dog_breed\n",
    "    else:\n",
    "        \"Neither a human face nor a dog has been detected in the image.\"\n",
    "        \n",
    "\n"
   ]
  },
  {
   "cell_type": "markdown",
   "metadata": {},
   "source": [
    "---\n",
    "<a id='step7'></a>\n",
    "## Step 7: Test Your Algorithm\n",
    "\n",
    "In this section, you will take your new algorithm for a spin!  What kind of dog does the algorithm think that __you__ look like?  If you have a dog, does it predict your dog's breed accurately?  If you have a cat, does it mistakenly think that your cat is a dog?\n",
    "\n",
    "### (IMPLEMENTATION) Test Your Algorithm on Sample Images!\n",
    "\n",
    "Test your algorithm at least six images on your computer.  Feel free to use any images you like.  Use at least two human and two dog images.  \n",
    "\n",
    "__Question 6:__ Is the output better than you expected :) ?  Or worse :( ?  Provide at least three possible points of improvement for your algorithm.\n",
    "\n",
    "__Answer:__ \n",
    "\n",
    "* **_\"Remark: I have removed the human faces from the notebook due to privacy concerns and in order not to offend anyone.\"_**\n",
    "\n",
    "#### Algorithm Performance\n",
    "\n",
    "* I have tested the algorithm with 6 images which I downloaded from wiki creative commons. The results are really impressive, since all 3 dog breeds are detected correctly. \n",
    "* The resemblances of the human faces with the most similar dog breed are also striking. \n",
    "* It appears that the algorithm is really good at detecting the general structure and shape of a face and find a resembling dog breed showing related features. \n",
    "\n",
    "#### Points of Improvement\n",
    "\n",
    "* Without any major training the algorithm already reaches an approx. 81% accuracy on the test set. \n",
    "* As described above the performance is already surprisingly good, but of course could be improved further by doing the following:\n",
    "* Collect more data. The more data we have, the better we can train the CNN, so one potential step for further improvement would be to get even more data.\n",
    "* Also with the available data, the algorithm could be improved further by making use of data augmentation, such as rotating, cropping or applying different kind of noise on the images. This way the algorithm has more diverse material to learn from.\n",
    "* One could also try different pre-trained networks other than ResNet-50 and further tweak the model architecture itself to achieve better results."
   ]
  },
  {
   "cell_type": "code",
   "execution_count": 42,
   "metadata": {},
   "outputs": [
    {
     "name": "stdout",
     "output_type": "stream",
     "text": [
      "The following dog breed was detected: Doberman_pinscher\n",
      "The following dog breed was detected: Labrador_retriever\n",
      "The following dog breed was detected: Yorkshire_terrier\n"
     ]
    }
   ],
   "source": [
    "## TODO: Execute your algorithm from Step 6 on\n",
    "## at least 6 images on your computer.\n",
    "## Feel free to use as many code cells as needed.\n",
    "\n",
    "print(human_face_dog_evaluator(\"./local_test_images/Dobermann_creative_commons.jpg\"))\n",
    "print(human_face_dog_evaluator(\"./local_test_images/labrador_retriever_creative_commons.jpg\"))\n",
    "print(human_face_dog_evaluator(\"./local_test_images/yorkshire_terrier_creative_commons.jpg\"))\n"
   ]
  }
 ],
 "metadata": {
  "anaconda-cloud": {},
  "kernelspec": {
   "display_name": "Python 3",
   "language": "python",
   "name": "python3"
  },
  "language_info": {
   "codemirror_mode": {
    "name": "ipython",
    "version": 3
   },
   "file_extension": ".py",
   "mimetype": "text/x-python",
   "name": "python",
   "nbconvert_exporter": "python",
   "pygments_lexer": "ipython3",
   "version": "3.6.3"
  }
 },
 "nbformat": 4,
 "nbformat_minor": 1
}
